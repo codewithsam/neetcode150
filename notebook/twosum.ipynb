{
 "cells": [
  {
   "cell_type": "markdown",
   "id": "ee648a97",
   "metadata": {},
   "source": [
    "alkmsldsa"
   ]
  },
  {
   "cell_type": "code",
   "execution_count": null,
   "id": "e3fe3796",
   "metadata": {},
   "outputs": [],
   "source": []
  },
  {
   "cell_type": "markdown",
   "id": "2851c501",
   "metadata": {},
   "source": [
    "# HELLO!"
   ]
  },
  {
   "cell_type": "code",
   "execution_count": null,
   "id": "d8fd47a0",
   "metadata": {},
   "outputs": [],
   "source": [
    "print(\"Hello\")"
   ]
  }
 ],
 "metadata": {
  "kernelspec": {
   "display_name": ".venv",
   "language": "python",
   "name": "python3"
  },
  "language_info": {
   "codemirror_mode": {
    "name": "ipython",
    "version": 3
   },
   "file_extension": ".py",
   "mimetype": "text/x-python",
   "name": "python",
   "nbconvert_exporter": "python",
   "pygments_lexer": "ipython3",
   "version": "3.13.7"
  }
 },
 "nbformat": 4,
 "nbformat_minor": 5
}
